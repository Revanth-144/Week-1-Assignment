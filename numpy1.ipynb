{
 "cells": [
  {
   "cell_type": "code",
   "execution_count": 1,
   "id": "6c87c59f-823b-4c81-8cc0-4baf6359c527",
   "metadata": {},
   "outputs": [
    {
     "name": "stdout",
     "output_type": "stream",
     "text": [
      "Passed\n"
     ]
    }
   ],
   "source": [
    "import numpy as np\n",
    "# Create a 2D Numpy array of size 1x3 with elements of your choice\n",
    "arr1 = np.array([[1, 2, 3]])\n",
    "\n",
    "# Create a Numpy array of length 50 with zeroes as its elements\n",
    "arr2 = np.zeros(50, dtype=np.int64)\n",
    "\n",
    "#Create a Numpy array of length 3x2 with elements of your choice\n",
    "arr3 = np.array([[1, 2], [3, 4], [5, 6]])\n",
    "\n",
    "arr4=np.dot(arr1,arr3)\n",
    "\n",
    "#Change 5th element of arr2 to a different number\n",
    "arr2[4]=10\n",
    "\n",
    "if np.shape(arr4)==(1,2) and arr2[4]!=0:\n",
    "  print(\"Passed\")\n",
    "else:\n",
    "  print(\"Fail\")"
   ]
  },
  {
   "cell_type": "code",
   "execution_count": null,
   "id": "098d7625-bf03-41bd-93db-e1ae4b44ded0",
   "metadata": {},
   "outputs": [],
   "source": []
  }
 ],
 "metadata": {
  "kernelspec": {
   "display_name": "Python 3 (ipykernel)",
   "language": "python",
   "name": "python3"
  },
  "language_info": {
   "codemirror_mode": {
    "name": "ipython",
    "version": 3
   },
   "file_extension": ".py",
   "mimetype": "text/x-python",
   "name": "python",
   "nbconvert_exporter": "python",
   "pygments_lexer": "ipython3",
   "version": "3.12.4"
  }
 },
 "nbformat": 4,
 "nbformat_minor": 5
}
